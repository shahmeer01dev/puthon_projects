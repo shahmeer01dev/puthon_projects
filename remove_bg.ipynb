{
 "cells": [
  {
   "cell_type": "code",
   "execution_count": 1,
   "metadata": {},
   "outputs": [],
   "source": [
    "from rembg import remove\n",
    "import easygui\n",
    "from PIL import Image\n",
    "\n",
    "inputFile = easygui.fileopenbox(\"select a file...\")\n",
    "outputFile = easygui.filesavebox(\"save file\")\n",
    "\n",
    "input = Image.open(inputFile)\n",
    "output = remove(input)\n",
    "\n",
    "output.save(outputFile)"
   ]
  }
 ],
 "metadata": {
  "kernelspec": {
   "display_name": "remove_bg",
   "language": "python",
   "name": "python3"
  },
  "language_info": {
   "codemirror_mode": {
    "name": "ipython",
    "version": 3
   },
   "file_extension": ".py",
   "mimetype": "text/x-python",
   "name": "python",
   "nbconvert_exporter": "python",
   "pygments_lexer": "ipython3",
   "version": "3.12.5"
  }
 },
 "nbformat": 4,
 "nbformat_minor": 2
}
